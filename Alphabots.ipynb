{
  "cells": [
    {
      "cell_type": "code",
      "execution_count": 2,
      "metadata": {
        "id": "VO0BsNLfike5"
      },
      "outputs": [],
      "source": [
        "import pandas as pd"
      ]
    },
    {
      "cell_type": "code",
      "execution_count": 4,
      "metadata": {
        "id": "02VlaxUHjOu5"
      },
      "outputs": [],
      "source": [
        "df= pd.read_csv('data-NSE_FO_35000.csv')"
      ]
    },
    {
      "cell_type": "code",
      "execution_count": 5,
      "metadata": {
        "colab": {
          "base_uri": "https://localhost:8080/",
          "height": 206
        },
        "id": "3dv4vl6rkM-x",
        "outputId": "77708bce-a0c2-4c70-abd7-3a6f46ccccef"
      },
      "outputs": [
        {
          "data": {
            "text/html": [
              "<div>\n",
              "<style scoped>\n",
              "    .dataframe tbody tr th:only-of-type {\n",
              "        vertical-align: middle;\n",
              "    }\n",
              "\n",
              "    .dataframe tbody tr th {\n",
              "        vertical-align: top;\n",
              "    }\n",
              "\n",
              "    .dataframe thead th {\n",
              "        text-align: right;\n",
              "    }\n",
              "</style>\n",
              "<table border=\"1\" class=\"dataframe\">\n",
              "  <thead>\n",
              "    <tr style=\"text-align: right;\">\n",
              "      <th></th>\n",
              "      <th>Unnamed: 0</th>\n",
              "      <th>Date</th>\n",
              "      <th>Open</th>\n",
              "      <th>High</th>\n",
              "      <th>Low</th>\n",
              "      <th>Close</th>\n",
              "      <th>Volume</th>\n",
              "      <th>OI</th>\n",
              "    </tr>\n",
              "  </thead>\n",
              "  <tbody>\n",
              "    <tr>\n",
              "      <th>0</th>\n",
              "      <td>1</td>\n",
              "      <td>2024-06-28 03:45:00</td>\n",
              "      <td>24349.90</td>\n",
              "      <td>24403.85</td>\n",
              "      <td>24349.9</td>\n",
              "      <td>24403.85</td>\n",
              "      <td>450</td>\n",
              "      <td>50</td>\n",
              "    </tr>\n",
              "    <tr>\n",
              "      <th>1</th>\n",
              "      <td>2</td>\n",
              "      <td>2024-06-28 03:46:00</td>\n",
              "      <td>24399.05</td>\n",
              "      <td>24406.75</td>\n",
              "      <td>24389.7</td>\n",
              "      <td>24400.00</td>\n",
              "      <td>1250</td>\n",
              "      <td>50</td>\n",
              "    </tr>\n",
              "    <tr>\n",
              "      <th>2</th>\n",
              "      <td>3</td>\n",
              "      <td>2024-06-28 03:47:00</td>\n",
              "      <td>24400.00</td>\n",
              "      <td>24410.25</td>\n",
              "      <td>24392.0</td>\n",
              "      <td>24400.00</td>\n",
              "      <td>775</td>\n",
              "      <td>50</td>\n",
              "    </tr>\n",
              "    <tr>\n",
              "      <th>3</th>\n",
              "      <td>4</td>\n",
              "      <td>2024-06-28 03:48:00</td>\n",
              "      <td>24400.60</td>\n",
              "      <td>24405.00</td>\n",
              "      <td>24400.0</td>\n",
              "      <td>24405.00</td>\n",
              "      <td>275</td>\n",
              "      <td>2050</td>\n",
              "    </tr>\n",
              "    <tr>\n",
              "      <th>4</th>\n",
              "      <td>5</td>\n",
              "      <td>2024-06-28 03:49:00</td>\n",
              "      <td>24407.50</td>\n",
              "      <td>24424.90</td>\n",
              "      <td>24400.6</td>\n",
              "      <td>24424.90</td>\n",
              "      <td>2425</td>\n",
              "      <td>2050</td>\n",
              "    </tr>\n",
              "  </tbody>\n",
              "</table>\n",
              "</div>"
            ],
            "text/plain": [
              "   Unnamed: 0                 Date      Open      High      Low     Close  \\\n",
              "0           1  2024-06-28 03:45:00  24349.90  24403.85  24349.9  24403.85   \n",
              "1           2  2024-06-28 03:46:00  24399.05  24406.75  24389.7  24400.00   \n",
              "2           3  2024-06-28 03:47:00  24400.00  24410.25  24392.0  24400.00   \n",
              "3           4  2024-06-28 03:48:00  24400.60  24405.00  24400.0  24405.00   \n",
              "4           5  2024-06-28 03:49:00  24407.50  24424.90  24400.6  24424.90   \n",
              "\n",
              "   Volume    OI  \n",
              "0     450    50  \n",
              "1    1250    50  \n",
              "2     775    50  \n",
              "3     275  2050  \n",
              "4    2425  2050  "
            ]
          },
          "execution_count": 5,
          "metadata": {},
          "output_type": "execute_result"
        }
      ],
      "source": [
        "df.head()"
      ]
    },
    {
      "cell_type": "code",
      "execution_count": 6,
      "metadata": {
        "id": "LzGEScEakP2e"
      },
      "outputs": [],
      "source": [
        "df.drop('Unnamed: 0',axis=1,inplace=True)"
      ]
    },
    {
      "cell_type": "code",
      "execution_count": 7,
      "metadata": {
        "id": "EpC17hTFk4uo"
      },
      "outputs": [],
      "source": [
        "# Convert the 'Date' column to datetime format (optional but recommended)\n",
        "df['Date'] = pd.to_datetime(df['Date'])"
      ]
    },
    {
      "cell_type": "code",
      "execution_count": 8,
      "metadata": {
        "id": "-JbJjHFJkZcI"
      },
      "outputs": [],
      "source": [
        "# Localize to UTC, then convert to +5:30\n",
        "df['Date'] = df['Date'].dt.tz_localize('UTC').dt.tz_convert('Asia/Kolkata')"
      ]
    },
    {
      "cell_type": "code",
      "execution_count": 9,
      "metadata": {
        "id": "Z3hctmlijlz1"
      },
      "outputs": [],
      "source": [
        "# Set the 'Date' column as the index\n",
        "df.set_index('Date', inplace=True)"
      ]
    },
    {
      "cell_type": "code",
      "execution_count": 10,
      "metadata": {
        "colab": {
          "base_uri": "https://localhost:8080/",
          "height": 237
        },
        "id": "8H_A-XVbkniL",
        "outputId": "9f241056-2a16-446a-c2ca-fc2b69b164e6"
      },
      "outputs": [
        {
          "data": {
            "text/html": [
              "<div>\n",
              "<style scoped>\n",
              "    .dataframe tbody tr th:only-of-type {\n",
              "        vertical-align: middle;\n",
              "    }\n",
              "\n",
              "    .dataframe tbody tr th {\n",
              "        vertical-align: top;\n",
              "    }\n",
              "\n",
              "    .dataframe thead th {\n",
              "        text-align: right;\n",
              "    }\n",
              "</style>\n",
              "<table border=\"1\" class=\"dataframe\">\n",
              "  <thead>\n",
              "    <tr style=\"text-align: right;\">\n",
              "      <th></th>\n",
              "      <th>Open</th>\n",
              "      <th>High</th>\n",
              "      <th>Low</th>\n",
              "      <th>Close</th>\n",
              "      <th>Volume</th>\n",
              "      <th>OI</th>\n",
              "    </tr>\n",
              "    <tr>\n",
              "      <th>Date</th>\n",
              "      <th></th>\n",
              "      <th></th>\n",
              "      <th></th>\n",
              "      <th></th>\n",
              "      <th></th>\n",
              "      <th></th>\n",
              "    </tr>\n",
              "  </thead>\n",
              "  <tbody>\n",
              "    <tr>\n",
              "      <th>2024-06-28 09:15:00+05:30</th>\n",
              "      <td>24349.90</td>\n",
              "      <td>24403.85</td>\n",
              "      <td>24349.9</td>\n",
              "      <td>24403.85</td>\n",
              "      <td>450</td>\n",
              "      <td>50</td>\n",
              "    </tr>\n",
              "    <tr>\n",
              "      <th>2024-06-28 09:16:00+05:30</th>\n",
              "      <td>24399.05</td>\n",
              "      <td>24406.75</td>\n",
              "      <td>24389.7</td>\n",
              "      <td>24400.00</td>\n",
              "      <td>1250</td>\n",
              "      <td>50</td>\n",
              "    </tr>\n",
              "    <tr>\n",
              "      <th>2024-06-28 09:17:00+05:30</th>\n",
              "      <td>24400.00</td>\n",
              "      <td>24410.25</td>\n",
              "      <td>24392.0</td>\n",
              "      <td>24400.00</td>\n",
              "      <td>775</td>\n",
              "      <td>50</td>\n",
              "    </tr>\n",
              "    <tr>\n",
              "      <th>2024-06-28 09:18:00+05:30</th>\n",
              "      <td>24400.60</td>\n",
              "      <td>24405.00</td>\n",
              "      <td>24400.0</td>\n",
              "      <td>24405.00</td>\n",
              "      <td>275</td>\n",
              "      <td>2050</td>\n",
              "    </tr>\n",
              "    <tr>\n",
              "      <th>2024-06-28 09:19:00+05:30</th>\n",
              "      <td>24407.50</td>\n",
              "      <td>24424.90</td>\n",
              "      <td>24400.6</td>\n",
              "      <td>24424.90</td>\n",
              "      <td>2425</td>\n",
              "      <td>2050</td>\n",
              "    </tr>\n",
              "  </tbody>\n",
              "</table>\n",
              "</div>"
            ],
            "text/plain": [
              "                               Open      High      Low     Close  Volume    OI\n",
              "Date                                                                          \n",
              "2024-06-28 09:15:00+05:30  24349.90  24403.85  24349.9  24403.85     450    50\n",
              "2024-06-28 09:16:00+05:30  24399.05  24406.75  24389.7  24400.00    1250    50\n",
              "2024-06-28 09:17:00+05:30  24400.00  24410.25  24392.0  24400.00     775    50\n",
              "2024-06-28 09:18:00+05:30  24400.60  24405.00  24400.0  24405.00     275  2050\n",
              "2024-06-28 09:19:00+05:30  24407.50  24424.90  24400.6  24424.90    2425  2050"
            ]
          },
          "execution_count": 10,
          "metadata": {},
          "output_type": "execute_result"
        }
      ],
      "source": [
        "df.head()"
      ]
    },
    {
      "cell_type": "code",
      "execution_count": 11,
      "metadata": {
        "id": "q9BtKQvsuro4"
      },
      "outputs": [],
      "source": [
        "def closing(df):\n",
        "  return df.Close"
      ]
    },
    {
      "cell_type": "code",
      "execution_count": 159,
      "metadata": {
        "colab": {
          "base_uri": "https://localhost:8080/"
        },
        "id": "3tuJ6B65lJAM",
        "outputId": "01562df2-87c6-4ed9-b961-29daa0fb4af7"
      },
      "outputs": [
        {
          "name": "stderr",
          "output_type": "stream",
          "text": [
            "C:\\Users\\user\\AppData\\Local\\Temp\\ipykernel_19556\\1000693343.py:7: FutureWarning: Series.__getitem__ treating keys as positions is deprecated. In a future version, integer keys will always be treated as labels (consistent with DataFrame behavior). To access a value by position, use `ser.iloc[pos]`\n",
            "  base_price = df['Close'][0]\n"
          ]
        }
      ],
      "source": [
        "from backtesting import Strategy\n",
        "from backtesting.lib import crossover\n",
        "\n",
        "\n",
        "class Alphabots(Strategy):\n",
        "    delta = 0.0005\n",
        "    base_price = df['Close'][0]\n",
        "    volume = 0.5\n",
        "    def init(self):\n",
        "      # self.base_price = self.data.Close[0]\n",
        "      self.short_trade = 0\n",
        "      self.long_trade = 0\n",
        "      self.close_prices = self.I(closing, self.data)\n",
        "      self.square_off = self.data.Close[374]\n",
        "\n",
        "    def next(self):\n",
        "      # if (self.close_prices == self.square_off) or (self.long_trade+self.short_trade==2):\n",
        "      #   self.position.close()\n",
        "      if self.close_prices > self.base_price*(1+self.delta):\n",
        "        if self.short_trade < 1:\n",
        "          if self.position.is_long or not self.position:\n",
        "            self.position.close()\n",
        "          self.sell(size = self.volume)\n",
        "          self.short_trade += 1\n",
        "      if self.close_prices < self.base_price*(1-self.delta):\n",
        "        if self.long_trade < 1:\n",
        "          if self.position.is_short or not self.position:\n",
        "            self.position.close()  \n",
        "          self.buy(size = self.volume)\n",
        "          self.long_trade += 1\n",
        "\n"
      ]
    },
    {
      "cell_type": "code",
      "execution_count": 160,
      "metadata": {
        "id": "aLhItGG_tAK1"
      },
      "outputs": [],
      "source": [
        "from backtesting import Backtest\n",
        "\n",
        "bt = Backtest(df[:375], Alphabots, cash=100_000, commission=0.00)\n",
        "stats = bt.run()\n"
      ]
    },
    {
      "cell_type": "code",
      "execution_count": 161,
      "metadata": {
        "colab": {
          "base_uri": "https://localhost:8080/",
          "height": 1000
        },
        "id": "mJI-kIuHtUMo",
        "outputId": "84c3a80d-e687-4ca4-9d1e-1c7d0d009634"
      },
      "outputs": [
        {
          "data": {
            "text/plain": [
              "Start                     2024-06-28 09:15...\n",
              "End                       2024-06-28 15:29...\n",
              "Duration                      0 days 06:14:00\n",
              "Exposure Time [%]                        48.8\n",
              "Equity Final [$]                     100054.1\n",
              "Equity Peak [$]                      100079.9\n",
              "Return [%]                             0.0541\n",
              "Buy & Hold Return [%]               -0.165753\n",
              "Return (Ann.) [%]                         0.0\n",
              "Volatility (Ann.) [%]                     NaN\n",
              "Sharpe Ratio                              NaN\n",
              "Sortino Ratio                             NaN\n",
              "Calmar Ratio                              0.0\n",
              "Max. Drawdown [%]                   -0.119448\n",
              "Avg. Drawdown [%]                    -0.04222\n",
              "Max. Drawdown Duration        0 days 03:09:00\n",
              "Avg. Drawdown Duration        0 days 01:14:00\n",
              "# Trades                                    2\n",
              "Win Rate [%]                             50.0\n",
              "Best Trade [%]                       0.163583\n",
              "Worst Trade [%]                     -0.052908\n",
              "Avg. Trade [%]                       0.055279\n",
              "Max. Trade Duration           0 days 03:01:00\n",
              "Avg. Trade Duration           0 days 01:31:00\n",
              "Profit Factor                        3.091833\n",
              "Expectancy [%]                       0.055337\n",
              "SQN                                  0.511826\n",
              "_strategy                           Alphabots\n",
              "_equity_curve                             ...\n",
              "_trades                      Size  EntryBa...\n",
              "dtype: object"
            ]
          },
          "execution_count": 161,
          "metadata": {},
          "output_type": "execute_result"
        }
      ],
      "source": [
        "stats"
      ]
    },
    {
      "cell_type": "code",
      "execution_count": 162,
      "metadata": {},
      "outputs": [
        {
          "data": {
            "text/html": [
              "<div>\n",
              "<style scoped>\n",
              "    .dataframe tbody tr th:only-of-type {\n",
              "        vertical-align: middle;\n",
              "    }\n",
              "\n",
              "    .dataframe tbody tr th {\n",
              "        vertical-align: top;\n",
              "    }\n",
              "\n",
              "    .dataframe thead th {\n",
              "        text-align: right;\n",
              "    }\n",
              "</style>\n",
              "<table border=\"1\" class=\"dataframe\">\n",
              "  <thead>\n",
              "    <tr style=\"text-align: right;\">\n",
              "      <th></th>\n",
              "      <th>Size</th>\n",
              "      <th>EntryBar</th>\n",
              "      <th>ExitBar</th>\n",
              "      <th>EntryPrice</th>\n",
              "      <th>ExitPrice</th>\n",
              "      <th>PnL</th>\n",
              "      <th>ReturnPct</th>\n",
              "      <th>EntryTime</th>\n",
              "      <th>ExitTime</th>\n",
              "      <th>Duration</th>\n",
              "    </tr>\n",
              "  </thead>\n",
              "  <tbody>\n",
              "    <tr>\n",
              "      <th>0</th>\n",
              "      <td>-2</td>\n",
              "      <td>5</td>\n",
              "      <td>186</td>\n",
              "      <td>24421.85</td>\n",
              "      <td>24381.9</td>\n",
              "      <td>79.9</td>\n",
              "      <td>0.001636</td>\n",
              "      <td>2024-06-28 09:20:00+05:30</td>\n",
              "      <td>2024-06-28 12:21:00+05:30</td>\n",
              "      <td>0 days 03:01:00</td>\n",
              "    </tr>\n",
              "    <tr>\n",
              "      <th>1</th>\n",
              "      <td>2</td>\n",
              "      <td>186</td>\n",
              "      <td>187</td>\n",
              "      <td>24381.90</td>\n",
              "      <td>24369.0</td>\n",
              "      <td>-25.8</td>\n",
              "      <td>-0.000529</td>\n",
              "      <td>2024-06-28 12:21:00+05:30</td>\n",
              "      <td>2024-06-28 12:22:00+05:30</td>\n",
              "      <td>0 days 00:01:00</td>\n",
              "    </tr>\n",
              "  </tbody>\n",
              "</table>\n",
              "</div>"
            ],
            "text/plain": [
              "   Size  EntryBar  ExitBar  EntryPrice  ExitPrice   PnL  ReturnPct  \\\n",
              "0    -2         5      186    24421.85    24381.9  79.9   0.001636   \n",
              "1     2       186      187    24381.90    24369.0 -25.8  -0.000529   \n",
              "\n",
              "                  EntryTime                  ExitTime        Duration  \n",
              "0 2024-06-28 09:20:00+05:30 2024-06-28 12:21:00+05:30 0 days 03:01:00  \n",
              "1 2024-06-28 12:21:00+05:30 2024-06-28 12:22:00+05:30 0 days 00:01:00  "
            ]
          },
          "execution_count": 162,
          "metadata": {},
          "output_type": "execute_result"
        }
      ],
      "source": [
        "stats['_trades']"
      ]
    },
    {
      "cell_type": "code",
      "execution_count": 163,
      "metadata": {},
      "outputs": [
        {
          "name": "stderr",
          "output_type": "stream",
          "text": [
            "BokehDeprecationWarning: Passing lists of formats for DatetimeTickFormatter scales was deprecated in Bokeh 3.0. Configure a single string format for each scale\n",
            "d:\\user\\Documents\\workspace\\Alphabots\\.venv\\lib\\site-packages\\backtesting\\_plotting.py:250: UserWarning: DatetimeFormatter scales now only accept a single format. Using the first provided: '%d %b'\n",
            "  formatter=DatetimeTickFormatter(days=['%d %b', '%a %d'],\n",
            "BokehDeprecationWarning: Passing lists of formats for DatetimeTickFormatter scales was deprecated in Bokeh 3.0. Configure a single string format for each scale\n",
            "d:\\user\\Documents\\workspace\\Alphabots\\.venv\\lib\\site-packages\\backtesting\\_plotting.py:250: UserWarning: DatetimeFormatter scales now only accept a single format. Using the first provided: '%m/%Y'\n",
            "  formatter=DatetimeTickFormatter(days=['%d %b', '%a %d'],\n",
            "d:\\user\\Documents\\workspace\\Alphabots\\.venv\\lib\\site-packages\\backtesting\\_plotting.py:455: FutureWarning: 'H' is deprecated and will be removed in a future version, please use 'h' instead.\n",
            "  df2 = (df.assign(_width=1).set_index('datetime')\n",
            "d:\\user\\Documents\\workspace\\Alphabots\\.venv\\lib\\site-packages\\backtesting\\_plotting.py:659: UserWarning: found multiple competing values for 'toolbar.active_drag' property; using the latest value\n",
            "  fig = gridplot(\n",
            "d:\\user\\Documents\\workspace\\Alphabots\\.venv\\lib\\site-packages\\backtesting\\_plotting.py:659: UserWarning: found multiple competing values for 'toolbar.active_scroll' property; using the latest value\n",
            "  fig = gridplot(\n",
            "d:\\user\\Documents\\workspace\\Alphabots\\.venv\\lib\\site-packages\\bokeh\\util\\serialization.py:243: UserWarning: no explicit representation of timezones available for np.datetime64\n",
            "  return convert(array.astype(\"datetime64[us]\"))\n"
          ]
        },
        {
          "data": {
            "text/html": [
              "<div style=\"display: table;\"><div style=\"display: table-row;\"><div style=\"display: table-cell;\"><b title=\"bokeh.models.plots.GridPlot\">GridPlot</b>(</div><div style=\"display: table-cell;\">id&nbsp;=&nbsp;'p5870', <span id=\"p5900\" style=\"cursor: pointer;\">&hellip;)</span></div></div><div class=\"p5899\" style=\"display: none;\"><div style=\"display: table-cell;\"></div><div style=\"display: table-cell;\">align&nbsp;=&nbsp;'auto',</div></div><div class=\"p5899\" style=\"display: none;\"><div style=\"display: table-cell;\"></div><div style=\"display: table-cell;\">aspect_ratio&nbsp;=&nbsp;None,</div></div><div class=\"p5899\" style=\"display: none;\"><div style=\"display: table-cell;\"></div><div style=\"display: table-cell;\">children&nbsp;=&nbsp;[(figure(id='p5596', ...), 0, 0), (figure(id='p5693', ...), 1, 0), (figure(id='p5552', ...), 2, 0), (figure(id='p5748', ...), 3, 0)],</div></div><div class=\"p5899\" style=\"display: none;\"><div style=\"display: table-cell;\"></div><div style=\"display: table-cell;\">cols&nbsp;=&nbsp;None,</div></div><div class=\"p5899\" style=\"display: none;\"><div style=\"display: table-cell;\"></div><div style=\"display: table-cell;\">context_menu&nbsp;=&nbsp;None,</div></div><div class=\"p5899\" style=\"display: none;\"><div style=\"display: table-cell;\"></div><div style=\"display: table-cell;\">css_classes&nbsp;=&nbsp;[],</div></div><div class=\"p5899\" style=\"display: none;\"><div style=\"display: table-cell;\"></div><div style=\"display: table-cell;\">css_variables&nbsp;=&nbsp;{},</div></div><div class=\"p5899\" style=\"display: none;\"><div style=\"display: table-cell;\"></div><div style=\"display: table-cell;\">disabled&nbsp;=&nbsp;False,</div></div><div class=\"p5899\" style=\"display: none;\"><div style=\"display: table-cell;\"></div><div style=\"display: table-cell;\">elements&nbsp;=&nbsp;[],</div></div><div class=\"p5899\" style=\"display: none;\"><div style=\"display: table-cell;\"></div><div style=\"display: table-cell;\">flow_mode&nbsp;=&nbsp;'block',</div></div><div class=\"p5899\" style=\"display: none;\"><div style=\"display: table-cell;\"></div><div style=\"display: table-cell;\">height&nbsp;=&nbsp;None,</div></div><div class=\"p5899\" style=\"display: none;\"><div style=\"display: table-cell;\"></div><div style=\"display: table-cell;\">height_policy&nbsp;=&nbsp;'auto',</div></div><div class=\"p5899\" style=\"display: none;\"><div style=\"display: table-cell;\"></div><div style=\"display: table-cell;\">js_event_callbacks&nbsp;=&nbsp;{},</div></div><div class=\"p5899\" style=\"display: none;\"><div style=\"display: table-cell;\"></div><div style=\"display: table-cell;\">js_property_callbacks&nbsp;=&nbsp;{},</div></div><div class=\"p5899\" style=\"display: none;\"><div style=\"display: table-cell;\"></div><div style=\"display: table-cell;\">margin&nbsp;=&nbsp;None,</div></div><div class=\"p5899\" style=\"display: none;\"><div style=\"display: table-cell;\"></div><div style=\"display: table-cell;\">max_height&nbsp;=&nbsp;None,</div></div><div class=\"p5899\" style=\"display: none;\"><div style=\"display: table-cell;\"></div><div style=\"display: table-cell;\">max_width&nbsp;=&nbsp;None,</div></div><div class=\"p5899\" style=\"display: none;\"><div style=\"display: table-cell;\"></div><div style=\"display: table-cell;\">min_height&nbsp;=&nbsp;None,</div></div><div class=\"p5899\" style=\"display: none;\"><div style=\"display: table-cell;\"></div><div style=\"display: table-cell;\">min_width&nbsp;=&nbsp;None,</div></div><div class=\"p5899\" style=\"display: none;\"><div style=\"display: table-cell;\"></div><div style=\"display: table-cell;\">name&nbsp;=&nbsp;None,</div></div><div class=\"p5899\" style=\"display: none;\"><div style=\"display: table-cell;\"></div><div style=\"display: table-cell;\">resizable&nbsp;=&nbsp;False,</div></div><div class=\"p5899\" style=\"display: none;\"><div style=\"display: table-cell;\"></div><div style=\"display: table-cell;\">rows&nbsp;=&nbsp;None,</div></div><div class=\"p5899\" style=\"display: none;\"><div style=\"display: table-cell;\"></div><div style=\"display: table-cell;\">sizing_mode&nbsp;=&nbsp;'stretch_width',</div></div><div class=\"p5899\" style=\"display: none;\"><div style=\"display: table-cell;\"></div><div style=\"display: table-cell;\">spacing&nbsp;=&nbsp;0,</div></div><div class=\"p5899\" style=\"display: none;\"><div style=\"display: table-cell;\"></div><div style=\"display: table-cell;\">styles&nbsp;=&nbsp;{},</div></div><div class=\"p5899\" style=\"display: none;\"><div style=\"display: table-cell;\"></div><div style=\"display: table-cell;\">stylesheets&nbsp;=&nbsp;[],</div></div><div class=\"p5899\" style=\"display: none;\"><div style=\"display: table-cell;\"></div><div style=\"display: table-cell;\">subscribed_events&nbsp;=&nbsp;PropertyValueSet(),</div></div><div class=\"p5899\" style=\"display: none;\"><div style=\"display: table-cell;\"></div><div style=\"display: table-cell;\">syncable&nbsp;=&nbsp;True,</div></div><div class=\"p5899\" style=\"display: none;\"><div style=\"display: table-cell;\"></div><div style=\"display: table-cell;\">tags&nbsp;=&nbsp;[],</div></div><div class=\"p5899\" style=\"display: none;\"><div style=\"display: table-cell;\"></div><div style=\"display: table-cell;\">toolbar&nbsp;=&nbsp;Toolbar(id='p5869', ...),</div></div><div class=\"p5899\" style=\"display: none;\"><div style=\"display: table-cell;\"></div><div style=\"display: table-cell;\">toolbar_location&nbsp;=&nbsp;'right',</div></div><div class=\"p5899\" style=\"display: none;\"><div style=\"display: table-cell;\"></div><div style=\"display: table-cell;\">visible&nbsp;=&nbsp;True,</div></div><div class=\"p5899\" style=\"display: none;\"><div style=\"display: table-cell;\"></div><div style=\"display: table-cell;\">width&nbsp;=&nbsp;None,</div></div><div class=\"p5899\" style=\"display: none;\"><div style=\"display: table-cell;\"></div><div style=\"display: table-cell;\">width_policy&nbsp;=&nbsp;'auto')</div></div></div>\n",
              "<script>\n",
              "(function() {\n",
              "  let expanded = false;\n",
              "  const ellipsis = document.getElementById(\"p5900\");\n",
              "  ellipsis.addEventListener(\"click\", function() {\n",
              "    const rows = document.getElementsByClassName(\"p5899\");\n",
              "    for (let i = 0; i < rows.length; i++) {\n",
              "      const el = rows[i];\n",
              "      el.style.display = expanded ? \"none\" : \"table-row\";\n",
              "    }\n",
              "    ellipsis.innerHTML = expanded ? \"&hellip;)\" : \"&lsaquo;&lsaquo;&lsaquo;\";\n",
              "    expanded = !expanded;\n",
              "  });\n",
              "})();\n",
              "</script>\n"
            ],
            "text/plain": [
              "GridPlot(id='p5870', ...)"
            ]
          },
          "execution_count": 163,
          "metadata": {},
          "output_type": "execute_result"
        }
      ],
      "source": [
        "bt.plot()"
      ]
    },
    {
      "cell_type": "code",
      "execution_count": 123,
      "metadata": {
        "colab": {
          "base_uri": "https://localhost:8080/",
          "height": 86,
          "referenced_widgets": [
            "51ba30621def4e90931a3c3c48d8b7cf",
            "2d29a9f531e64c57a2605ae0c84ea2f8",
            "5ffc68ad275b4822869b5cd53977a040",
            "3ec747f6bc6a45a4b393b68fcc434286",
            "2393e97d58b34e3e998963657f3b0191",
            "55e743a874e8425dbe3b79dcb025df26",
            "58498b27d32543f1a1c5600166c6607a",
            "c21bd45cfdfb47d581265d927c711f05",
            "2aa9fe4211e14dbabd0a0d84a21310c5",
            "7fbaf14f0d664e94a095baf53c9f6983",
            "d5431e78000e4bda8236563627a5bbba"
          ]
        },
        "id": "Pg82lf9yx-9i",
        "outputId": "c09a2a49-3b4f-465b-846e-18c3e225fd3a"
      },
      "outputs": [],
      "source": [
        "stats, heatmap = bt.optimize(\n",
        "                    delta=[i/1000 for i in range(1, 101)],\n",
        "                    volume = [i/10 for i in range(1,6)],\n",
        "                    maximize='Return [%]', max_tries=300,\n",
        "                        random_state=0,\n",
        "                        return_heatmap=True)"
      ]
    },
    {
      "cell_type": "code",
      "execution_count": 124,
      "metadata": {
        "colab": {
          "base_uri": "https://localhost:8080/",
          "height": 1000
        },
        "id": "m_MbZV6VzinI",
        "outputId": "185fe34b-4dd0-4e3f-9bb8-60787f5ec32d"
      },
      "outputs": [
        {
          "data": {
            "text/plain": [
              "Start                     2024-06-28 09:15...\n",
              "End                       2024-06-28 15:29...\n",
              "Duration                      0 days 06:14:00\n",
              "Exposure Time [%]                   43.466667\n",
              "Equity Final [$]                      99939.0\n",
              "Equity Peak [$]                     100029.75\n",
              "Return [%]                             -0.061\n",
              "Buy & Hold Return [%]               -0.165753\n",
              "Return (Ann.) [%]                         0.0\n",
              "Volatility (Ann.) [%]                     NaN\n",
              "Sharpe Ratio                              NaN\n",
              "Sortino Ratio                             NaN\n",
              "Calmar Ratio                              0.0\n",
              "Max. Drawdown [%]                   -0.091823\n",
              "Avg. Drawdown [%]                   -0.051535\n",
              "Max. Drawdown Duration        0 days 05:36:00\n",
              "Avg. Drawdown Duration        0 days 02:54:00\n",
              "# Trades                                    1\n",
              "Win Rate [%]                              0.0\n",
              "Best Trade [%]                      -0.249693\n",
              "Worst Trade [%]                     -0.249693\n",
              "Avg. Trade [%]                      -0.249693\n",
              "Max. Trade Duration           0 days 02:42:00\n",
              "Avg. Trade Duration           0 days 02:42:00\n",
              "Profit Factor                             0.0\n",
              "Expectancy [%]                      -0.249693\n",
              "SQN                                       NaN\n",
              "_strategy                 Alphabots(delta=...\n",
              "_equity_curve                             ...\n",
              "_trades                      Size  EntryBa...\n",
              "dtype: object"
            ]
          },
          "execution_count": 124,
          "metadata": {},
          "output_type": "execute_result"
        }
      ],
      "source": [
        "stats"
      ]
    },
    {
      "cell_type": "code",
      "execution_count": 125,
      "metadata": {
        "colab": {
          "base_uri": "https://localhost:8080/"
        },
        "id": "w6XbWIwEzqOV",
        "outputId": "1b1d1190-7a1d-48db-efce-f2b2900160df"
      },
      "outputs": [
        {
          "data": {
            "text/plain": [
              "<Strategy Alphabots(delta=0.001,volume=0.4)>"
            ]
          },
          "execution_count": 125,
          "metadata": {},
          "output_type": "execute_result"
        }
      ],
      "source": [
        "stats[\"_strategy\"]"
      ]
    },
    {
      "cell_type": "code",
      "execution_count": 89,
      "metadata": {
        "colab": {
          "base_uri": "https://localhost:8080/",
          "height": 918
        },
        "id": "TQt2E9u2t8dj",
        "outputId": "641d7ac8-c079-4df8-e802-597e8c172fcb"
      },
      "outputs": [
        {
          "name": "stderr",
          "output_type": "stream",
          "text": [
            "BokehDeprecationWarning: Passing lists of formats for DatetimeTickFormatter scales was deprecated in Bokeh 3.0. Configure a single string format for each scale\n",
            "d:\\user\\Documents\\workspace\\Alphabots\\.venv\\lib\\site-packages\\backtesting\\_plotting.py:250: UserWarning: DatetimeFormatter scales now only accept a single format. Using the first provided: '%d %b'\n",
            "  formatter=DatetimeTickFormatter(days=['%d %b', '%a %d'],\n",
            "BokehDeprecationWarning: Passing lists of formats for DatetimeTickFormatter scales was deprecated in Bokeh 3.0. Configure a single string format for each scale\n",
            "d:\\user\\Documents\\workspace\\Alphabots\\.venv\\lib\\site-packages\\backtesting\\_plotting.py:250: UserWarning: DatetimeFormatter scales now only accept a single format. Using the first provided: '%m/%Y'\n",
            "  formatter=DatetimeTickFormatter(days=['%d %b', '%a %d'],\n",
            "d:\\user\\Documents\\workspace\\Alphabots\\.venv\\lib\\site-packages\\backtesting\\_plotting.py:455: FutureWarning: 'H' is deprecated and will be removed in a future version, please use 'h' instead.\n",
            "  df2 = (df.assign(_width=1).set_index('datetime')\n",
            "d:\\user\\Documents\\workspace\\Alphabots\\.venv\\lib\\site-packages\\backtesting\\_plotting.py:659: UserWarning: found multiple competing values for 'toolbar.active_drag' property; using the latest value\n",
            "  fig = gridplot(\n",
            "d:\\user\\Documents\\workspace\\Alphabots\\.venv\\lib\\site-packages\\backtesting\\_plotting.py:659: UserWarning: found multiple competing values for 'toolbar.active_scroll' property; using the latest value\n",
            "  fig = gridplot(\n",
            "d:\\user\\Documents\\workspace\\Alphabots\\.venv\\lib\\site-packages\\bokeh\\util\\serialization.py:243: UserWarning: no explicit representation of timezones available for np.datetime64\n",
            "  return convert(array.astype(\"datetime64[us]\"))\n"
          ]
        },
        {
          "data": {
            "text/html": [
              "<div style=\"display: table;\"><div style=\"display: table-row;\"><div style=\"display: table-cell;\"><b title=\"bokeh.models.plots.GridPlot\">GridPlot</b>(</div><div style=\"display: table-cell;\">id&nbsp;=&nbsp;'p2020', <span id=\"p2050\" style=\"cursor: pointer;\">&hellip;)</span></div></div><div class=\"p2049\" style=\"display: none;\"><div style=\"display: table-cell;\"></div><div style=\"display: table-cell;\">align&nbsp;=&nbsp;'auto',</div></div><div class=\"p2049\" style=\"display: none;\"><div style=\"display: table-cell;\"></div><div style=\"display: table-cell;\">aspect_ratio&nbsp;=&nbsp;None,</div></div><div class=\"p2049\" style=\"display: none;\"><div style=\"display: table-cell;\"></div><div style=\"display: table-cell;\">children&nbsp;=&nbsp;[(figure(id='p1746', ...), 0, 0), (figure(id='p1843', ...), 1, 0), (figure(id='p1702', ...), 2, 0), (figure(id='p1898', ...), 3, 0)],</div></div><div class=\"p2049\" style=\"display: none;\"><div style=\"display: table-cell;\"></div><div style=\"display: table-cell;\">cols&nbsp;=&nbsp;None,</div></div><div class=\"p2049\" style=\"display: none;\"><div style=\"display: table-cell;\"></div><div style=\"display: table-cell;\">context_menu&nbsp;=&nbsp;None,</div></div><div class=\"p2049\" style=\"display: none;\"><div style=\"display: table-cell;\"></div><div style=\"display: table-cell;\">css_classes&nbsp;=&nbsp;[],</div></div><div class=\"p2049\" style=\"display: none;\"><div style=\"display: table-cell;\"></div><div style=\"display: table-cell;\">css_variables&nbsp;=&nbsp;{},</div></div><div class=\"p2049\" style=\"display: none;\"><div style=\"display: table-cell;\"></div><div style=\"display: table-cell;\">disabled&nbsp;=&nbsp;False,</div></div><div class=\"p2049\" style=\"display: none;\"><div style=\"display: table-cell;\"></div><div style=\"display: table-cell;\">elements&nbsp;=&nbsp;[],</div></div><div class=\"p2049\" style=\"display: none;\"><div style=\"display: table-cell;\"></div><div style=\"display: table-cell;\">flow_mode&nbsp;=&nbsp;'block',</div></div><div class=\"p2049\" style=\"display: none;\"><div style=\"display: table-cell;\"></div><div style=\"display: table-cell;\">height&nbsp;=&nbsp;None,</div></div><div class=\"p2049\" style=\"display: none;\"><div style=\"display: table-cell;\"></div><div style=\"display: table-cell;\">height_policy&nbsp;=&nbsp;'auto',</div></div><div class=\"p2049\" style=\"display: none;\"><div style=\"display: table-cell;\"></div><div style=\"display: table-cell;\">js_event_callbacks&nbsp;=&nbsp;{},</div></div><div class=\"p2049\" style=\"display: none;\"><div style=\"display: table-cell;\"></div><div style=\"display: table-cell;\">js_property_callbacks&nbsp;=&nbsp;{},</div></div><div class=\"p2049\" style=\"display: none;\"><div style=\"display: table-cell;\"></div><div style=\"display: table-cell;\">margin&nbsp;=&nbsp;None,</div></div><div class=\"p2049\" style=\"display: none;\"><div style=\"display: table-cell;\"></div><div style=\"display: table-cell;\">max_height&nbsp;=&nbsp;None,</div></div><div class=\"p2049\" style=\"display: none;\"><div style=\"display: table-cell;\"></div><div style=\"display: table-cell;\">max_width&nbsp;=&nbsp;None,</div></div><div class=\"p2049\" style=\"display: none;\"><div style=\"display: table-cell;\"></div><div style=\"display: table-cell;\">min_height&nbsp;=&nbsp;None,</div></div><div class=\"p2049\" style=\"display: none;\"><div style=\"display: table-cell;\"></div><div style=\"display: table-cell;\">min_width&nbsp;=&nbsp;None,</div></div><div class=\"p2049\" style=\"display: none;\"><div style=\"display: table-cell;\"></div><div style=\"display: table-cell;\">name&nbsp;=&nbsp;None,</div></div><div class=\"p2049\" style=\"display: none;\"><div style=\"display: table-cell;\"></div><div style=\"display: table-cell;\">resizable&nbsp;=&nbsp;False,</div></div><div class=\"p2049\" style=\"display: none;\"><div style=\"display: table-cell;\"></div><div style=\"display: table-cell;\">rows&nbsp;=&nbsp;None,</div></div><div class=\"p2049\" style=\"display: none;\"><div style=\"display: table-cell;\"></div><div style=\"display: table-cell;\">sizing_mode&nbsp;=&nbsp;'stretch_width',</div></div><div class=\"p2049\" style=\"display: none;\"><div style=\"display: table-cell;\"></div><div style=\"display: table-cell;\">spacing&nbsp;=&nbsp;0,</div></div><div class=\"p2049\" style=\"display: none;\"><div style=\"display: table-cell;\"></div><div style=\"display: table-cell;\">styles&nbsp;=&nbsp;{},</div></div><div class=\"p2049\" style=\"display: none;\"><div style=\"display: table-cell;\"></div><div style=\"display: table-cell;\">stylesheets&nbsp;=&nbsp;[],</div></div><div class=\"p2049\" style=\"display: none;\"><div style=\"display: table-cell;\"></div><div style=\"display: table-cell;\">subscribed_events&nbsp;=&nbsp;PropertyValueSet(),</div></div><div class=\"p2049\" style=\"display: none;\"><div style=\"display: table-cell;\"></div><div style=\"display: table-cell;\">syncable&nbsp;=&nbsp;True,</div></div><div class=\"p2049\" style=\"display: none;\"><div style=\"display: table-cell;\"></div><div style=\"display: table-cell;\">tags&nbsp;=&nbsp;[],</div></div><div class=\"p2049\" style=\"display: none;\"><div style=\"display: table-cell;\"></div><div style=\"display: table-cell;\">toolbar&nbsp;=&nbsp;Toolbar(id='p2019', ...),</div></div><div class=\"p2049\" style=\"display: none;\"><div style=\"display: table-cell;\"></div><div style=\"display: table-cell;\">toolbar_location&nbsp;=&nbsp;'right',</div></div><div class=\"p2049\" style=\"display: none;\"><div style=\"display: table-cell;\"></div><div style=\"display: table-cell;\">visible&nbsp;=&nbsp;True,</div></div><div class=\"p2049\" style=\"display: none;\"><div style=\"display: table-cell;\"></div><div style=\"display: table-cell;\">width&nbsp;=&nbsp;None,</div></div><div class=\"p2049\" style=\"display: none;\"><div style=\"display: table-cell;\"></div><div style=\"display: table-cell;\">width_policy&nbsp;=&nbsp;'auto')</div></div></div>\n",
              "<script>\n",
              "(function() {\n",
              "  let expanded = false;\n",
              "  const ellipsis = document.getElementById(\"p2050\");\n",
              "  ellipsis.addEventListener(\"click\", function() {\n",
              "    const rows = document.getElementsByClassName(\"p2049\");\n",
              "    for (let i = 0; i < rows.length; i++) {\n",
              "      const el = rows[i];\n",
              "      el.style.display = expanded ? \"none\" : \"table-row\";\n",
              "    }\n",
              "    ellipsis.innerHTML = expanded ? \"&hellip;)\" : \"&lsaquo;&lsaquo;&lsaquo;\";\n",
              "    expanded = !expanded;\n",
              "  });\n",
              "})();\n",
              "</script>\n"
            ],
            "text/plain": [
              "GridPlot(id='p2020', ...)"
            ]
          },
          "execution_count": 89,
          "metadata": {},
          "output_type": "execute_result"
        }
      ],
      "source": [
        "bt.plot()"
      ]
    }
  ],
  "metadata": {
    "colab": {
      "provenance": []
    },
    "kernelspec": {
      "display_name": "Python 3",
      "name": "python3"
    },
    "language_info": {
      "codemirror_mode": {
        "name": "ipython",
        "version": 3
      },
      "file_extension": ".py",
      "mimetype": "text/x-python",
      "name": "python",
      "nbconvert_exporter": "python",
      "pygments_lexer": "ipython3",
      "version": "3.9.13"
    },
    "widgets": {
      "application/vnd.jupyter.widget-state+json": {
        "2393e97d58b34e3e998963657f3b0191": {
          "model_module": "@jupyter-widgets/base",
          "model_module_version": "1.2.0",
          "model_name": "LayoutModel",
          "state": {
            "_model_module": "@jupyter-widgets/base",
            "_model_module_version": "1.2.0",
            "_model_name": "LayoutModel",
            "_view_count": null,
            "_view_module": "@jupyter-widgets/base",
            "_view_module_version": "1.2.0",
            "_view_name": "LayoutView",
            "align_content": null,
            "align_items": null,
            "align_self": null,
            "border": null,
            "bottom": null,
            "display": null,
            "flex": null,
            "flex_flow": null,
            "grid_area": null,
            "grid_auto_columns": null,
            "grid_auto_flow": null,
            "grid_auto_rows": null,
            "grid_column": null,
            "grid_gap": null,
            "grid_row": null,
            "grid_template_areas": null,
            "grid_template_columns": null,
            "grid_template_rows": null,
            "height": null,
            "justify_content": null,
            "justify_items": null,
            "left": null,
            "margin": null,
            "max_height": null,
            "max_width": null,
            "min_height": null,
            "min_width": null,
            "object_fit": null,
            "object_position": null,
            "order": null,
            "overflow": null,
            "overflow_x": null,
            "overflow_y": null,
            "padding": null,
            "right": null,
            "top": null,
            "visibility": "hidden",
            "width": null
          }
        },
        "2aa9fe4211e14dbabd0a0d84a21310c5": {
          "model_module": "@jupyter-widgets/controls",
          "model_module_version": "1.5.0",
          "model_name": "ProgressStyleModel",
          "state": {
            "_model_module": "@jupyter-widgets/controls",
            "_model_module_version": "1.5.0",
            "_model_name": "ProgressStyleModel",
            "_view_count": null,
            "_view_module": "@jupyter-widgets/base",
            "_view_module_version": "1.2.0",
            "_view_name": "StyleView",
            "bar_color": null,
            "description_width": ""
          }
        },
        "2d29a9f531e64c57a2605ae0c84ea2f8": {
          "model_module": "@jupyter-widgets/controls",
          "model_module_version": "1.5.0",
          "model_name": "HTMLModel",
          "state": {
            "_dom_classes": [],
            "_model_module": "@jupyter-widgets/controls",
            "_model_module_version": "1.5.0",
            "_model_name": "HTMLModel",
            "_view_count": null,
            "_view_module": "@jupyter-widgets/controls",
            "_view_module_version": "1.5.0",
            "_view_name": "HTMLView",
            "description": "",
            "description_tooltip": null,
            "layout": "IPY_MODEL_55e743a874e8425dbe3b79dcb025df26",
            "placeholder": "​",
            "style": "IPY_MODEL_58498b27d32543f1a1c5600166c6607a",
            "value": "Backtest.optimize: 100%"
          }
        },
        "3ec747f6bc6a45a4b393b68fcc434286": {
          "model_module": "@jupyter-widgets/controls",
          "model_module_version": "1.5.0",
          "model_name": "HTMLModel",
          "state": {
            "_dom_classes": [],
            "_model_module": "@jupyter-widgets/controls",
            "_model_module_version": "1.5.0",
            "_model_name": "HTMLModel",
            "_view_count": null,
            "_view_module": "@jupyter-widgets/controls",
            "_view_module_version": "1.5.0",
            "_view_name": "HTMLView",
            "description": "",
            "description_tooltip": null,
            "layout": "IPY_MODEL_7fbaf14f0d664e94a095baf53c9f6983",
            "placeholder": "​",
            "style": "IPY_MODEL_d5431e78000e4bda8236563627a5bbba",
            "value": " 3/3 [00:11&lt;00:00,  2.90s/it]"
          }
        },
        "51ba30621def4e90931a3c3c48d8b7cf": {
          "model_module": "@jupyter-widgets/controls",
          "model_module_version": "1.5.0",
          "model_name": "HBoxModel",
          "state": {
            "_dom_classes": [],
            "_model_module": "@jupyter-widgets/controls",
            "_model_module_version": "1.5.0",
            "_model_name": "HBoxModel",
            "_view_count": null,
            "_view_module": "@jupyter-widgets/controls",
            "_view_module_version": "1.5.0",
            "_view_name": "HBoxView",
            "box_style": "",
            "children": [
              "IPY_MODEL_2d29a9f531e64c57a2605ae0c84ea2f8",
              "IPY_MODEL_5ffc68ad275b4822869b5cd53977a040",
              "IPY_MODEL_3ec747f6bc6a45a4b393b68fcc434286"
            ],
            "layout": "IPY_MODEL_2393e97d58b34e3e998963657f3b0191"
          }
        },
        "55e743a874e8425dbe3b79dcb025df26": {
          "model_module": "@jupyter-widgets/base",
          "model_module_version": "1.2.0",
          "model_name": "LayoutModel",
          "state": {
            "_model_module": "@jupyter-widgets/base",
            "_model_module_version": "1.2.0",
            "_model_name": "LayoutModel",
            "_view_count": null,
            "_view_module": "@jupyter-widgets/base",
            "_view_module_version": "1.2.0",
            "_view_name": "LayoutView",
            "align_content": null,
            "align_items": null,
            "align_self": null,
            "border": null,
            "bottom": null,
            "display": null,
            "flex": null,
            "flex_flow": null,
            "grid_area": null,
            "grid_auto_columns": null,
            "grid_auto_flow": null,
            "grid_auto_rows": null,
            "grid_column": null,
            "grid_gap": null,
            "grid_row": null,
            "grid_template_areas": null,
            "grid_template_columns": null,
            "grid_template_rows": null,
            "height": null,
            "justify_content": null,
            "justify_items": null,
            "left": null,
            "margin": null,
            "max_height": null,
            "max_width": null,
            "min_height": null,
            "min_width": null,
            "object_fit": null,
            "object_position": null,
            "order": null,
            "overflow": null,
            "overflow_x": null,
            "overflow_y": null,
            "padding": null,
            "right": null,
            "top": null,
            "visibility": null,
            "width": null
          }
        },
        "58498b27d32543f1a1c5600166c6607a": {
          "model_module": "@jupyter-widgets/controls",
          "model_module_version": "1.5.0",
          "model_name": "DescriptionStyleModel",
          "state": {
            "_model_module": "@jupyter-widgets/controls",
            "_model_module_version": "1.5.0",
            "_model_name": "DescriptionStyleModel",
            "_view_count": null,
            "_view_module": "@jupyter-widgets/base",
            "_view_module_version": "1.2.0",
            "_view_name": "StyleView",
            "description_width": ""
          }
        },
        "5ffc68ad275b4822869b5cd53977a040": {
          "model_module": "@jupyter-widgets/controls",
          "model_module_version": "1.5.0",
          "model_name": "FloatProgressModel",
          "state": {
            "_dom_classes": [],
            "_model_module": "@jupyter-widgets/controls",
            "_model_module_version": "1.5.0",
            "_model_name": "FloatProgressModel",
            "_view_count": null,
            "_view_module": "@jupyter-widgets/controls",
            "_view_module_version": "1.5.0",
            "_view_name": "ProgressView",
            "bar_style": "",
            "description": "",
            "description_tooltip": null,
            "layout": "IPY_MODEL_c21bd45cfdfb47d581265d927c711f05",
            "max": 3,
            "min": 0,
            "orientation": "horizontal",
            "style": "IPY_MODEL_2aa9fe4211e14dbabd0a0d84a21310c5",
            "value": 3
          }
        },
        "7fbaf14f0d664e94a095baf53c9f6983": {
          "model_module": "@jupyter-widgets/base",
          "model_module_version": "1.2.0",
          "model_name": "LayoutModel",
          "state": {
            "_model_module": "@jupyter-widgets/base",
            "_model_module_version": "1.2.0",
            "_model_name": "LayoutModel",
            "_view_count": null,
            "_view_module": "@jupyter-widgets/base",
            "_view_module_version": "1.2.0",
            "_view_name": "LayoutView",
            "align_content": null,
            "align_items": null,
            "align_self": null,
            "border": null,
            "bottom": null,
            "display": null,
            "flex": null,
            "flex_flow": null,
            "grid_area": null,
            "grid_auto_columns": null,
            "grid_auto_flow": null,
            "grid_auto_rows": null,
            "grid_column": null,
            "grid_gap": null,
            "grid_row": null,
            "grid_template_areas": null,
            "grid_template_columns": null,
            "grid_template_rows": null,
            "height": null,
            "justify_content": null,
            "justify_items": null,
            "left": null,
            "margin": null,
            "max_height": null,
            "max_width": null,
            "min_height": null,
            "min_width": null,
            "object_fit": null,
            "object_position": null,
            "order": null,
            "overflow": null,
            "overflow_x": null,
            "overflow_y": null,
            "padding": null,
            "right": null,
            "top": null,
            "visibility": null,
            "width": null
          }
        },
        "c21bd45cfdfb47d581265d927c711f05": {
          "model_module": "@jupyter-widgets/base",
          "model_module_version": "1.2.0",
          "model_name": "LayoutModel",
          "state": {
            "_model_module": "@jupyter-widgets/base",
            "_model_module_version": "1.2.0",
            "_model_name": "LayoutModel",
            "_view_count": null,
            "_view_module": "@jupyter-widgets/base",
            "_view_module_version": "1.2.0",
            "_view_name": "LayoutView",
            "align_content": null,
            "align_items": null,
            "align_self": null,
            "border": null,
            "bottom": null,
            "display": null,
            "flex": null,
            "flex_flow": null,
            "grid_area": null,
            "grid_auto_columns": null,
            "grid_auto_flow": null,
            "grid_auto_rows": null,
            "grid_column": null,
            "grid_gap": null,
            "grid_row": null,
            "grid_template_areas": null,
            "grid_template_columns": null,
            "grid_template_rows": null,
            "height": null,
            "justify_content": null,
            "justify_items": null,
            "left": null,
            "margin": null,
            "max_height": null,
            "max_width": null,
            "min_height": null,
            "min_width": null,
            "object_fit": null,
            "object_position": null,
            "order": null,
            "overflow": null,
            "overflow_x": null,
            "overflow_y": null,
            "padding": null,
            "right": null,
            "top": null,
            "visibility": null,
            "width": null
          }
        },
        "d5431e78000e4bda8236563627a5bbba": {
          "model_module": "@jupyter-widgets/controls",
          "model_module_version": "1.5.0",
          "model_name": "DescriptionStyleModel",
          "state": {
            "_model_module": "@jupyter-widgets/controls",
            "_model_module_version": "1.5.0",
            "_model_name": "DescriptionStyleModel",
            "_view_count": null,
            "_view_module": "@jupyter-widgets/base",
            "_view_module_version": "1.2.0",
            "_view_name": "StyleView",
            "description_width": ""
          }
        }
      }
    }
  },
  "nbformat": 4,
  "nbformat_minor": 0
}
